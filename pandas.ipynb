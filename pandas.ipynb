{
 "cells": [
  {
   "cell_type": "code",
   "execution_count": 3,
   "id": "707015a1",
   "metadata": {},
   "outputs": [],
   "source": [
    "import numpy as np\n",
    "import pandas as pd"
   ]
  },
  {
   "cell_type": "code",
   "execution_count": 4,
   "id": "034e68d4",
   "metadata": {},
   "outputs": [],
   "source": [
    "country =[\"ind\",\"pak\",\"aus\"] # list or dictionary (iterables)"
   ]
  },
  {
   "cell_type": "code",
   "execution_count": 5,
   "id": "061110b3",
   "metadata": {},
   "outputs": [],
   "source": [
    "pop=pd.Series(country)"
   ]
  },
  {
   "cell_type": "code",
   "execution_count": 6,
   "id": "ac304845",
   "metadata": {},
   "outputs": [],
   "source": [
    "people=[1000,800,500]\n"
   ]
  },
  {
   "cell_type": "code",
   "execution_count": 12,
   "id": "79bc90bf",
   "metadata": {},
   "outputs": [],
   "source": [
    "pop= pd.Series(country,index=people,name=\"Population\")"
   ]
  },
  {
   "cell_type": "markdown",
   "id": "73b29b31",
   "metadata": {},
   "source": [
    "# ATTRIBUTES"
   ]
  },
  {
   "cell_type": "code",
   "execution_count": 13,
   "id": "fd26e2c7",
   "metadata": {},
   "outputs": [
    {
     "data": {
      "text/plain": [
       "3"
      ]
     },
     "execution_count": 13,
     "metadata": {},
     "output_type": "execute_result"
    }
   ],
   "source": [
    "#size\n",
    "\n",
    "pop.size\n"
   ]
  },
  {
   "cell_type": "code",
   "execution_count": 14,
   "id": "136c1a25",
   "metadata": {},
   "outputs": [
    {
     "data": {
      "text/plain": [
       "dtype('O')"
      ]
     },
     "execution_count": 14,
     "metadata": {},
     "output_type": "execute_result"
    }
   ],
   "source": [
    "#dtype\n",
    "\n",
    "pop.dtype"
   ]
  },
  {
   "cell_type": "code",
   "execution_count": 15,
   "id": "b9c0d0e7",
   "metadata": {},
   "outputs": [
    {
     "name": "stdout",
     "output_type": "stream",
     "text": [
      "Population\n"
     ]
    }
   ],
   "source": [
    "#name\n",
    "\n",
    "print(pop.name)"
   ]
  },
  {
   "cell_type": "code",
   "execution_count": 16,
   "id": "8b55f88c",
   "metadata": {},
   "outputs": [
    {
     "data": {
      "text/plain": [
       "True"
      ]
     },
     "execution_count": 16,
     "metadata": {},
     "output_type": "execute_result"
    }
   ],
   "source": [
    "# isunique\n",
    "\n",
    "pop.is_unique"
   ]
  },
  {
   "cell_type": "code",
   "execution_count": 17,
   "id": "5e75be10",
   "metadata": {},
   "outputs": [
    {
     "data": {
      "text/plain": [
       "Index([1000, 800, 500], dtype='int64')"
      ]
     },
     "execution_count": 17,
     "metadata": {},
     "output_type": "execute_result"
    }
   ],
   "source": [
    "# index \n",
    "\n",
    "pop.index"
   ]
  },
  {
   "cell_type": "code",
   "execution_count": 18,
   "id": "ab15d85d",
   "metadata": {},
   "outputs": [
    {
     "data": {
      "text/plain": [
       "array(['ind', 'pak', 'aus'], dtype=object)"
      ]
     },
     "execution_count": 18,
     "metadata": {},
     "output_type": "execute_result"
    }
   ],
   "source": [
    "# values\n",
    "\n",
    "pop.values"
   ]
  },
  {
   "cell_type": "markdown",
   "id": "58a0f339",
   "metadata": {},
   "source": []
  }
 ],
 "metadata": {
  "kernelspec": {
   "display_name": "Python 3",
   "language": "python",
   "name": "python3"
  },
  "language_info": {
   "codemirror_mode": {
    "name": "ipython",
    "version": 3
   },
   "file_extension": ".py",
   "mimetype": "text/x-python",
   "name": "python",
   "nbconvert_exporter": "python",
   "pygments_lexer": "ipython3",
   "version": "3.13.2"
  }
 },
 "nbformat": 4,
 "nbformat_minor": 5
}
